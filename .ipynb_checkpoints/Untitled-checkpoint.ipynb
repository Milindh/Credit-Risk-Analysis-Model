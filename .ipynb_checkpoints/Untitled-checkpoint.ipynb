{
 "cells": [
  {
   "cell_type": "code",
   "execution_count": 1,
   "metadata": {},
   "outputs": [],
   "source": [
    "import scipy.stats"
   ]
  },
  {
   "cell_type": "code",
   "execution_count": 2,
   "metadata": {},
   "outputs": [
    {
     "name": "stdout",
     "output_type": "stream",
     "text": [
      "Results for California\n",
      "Chi-squared statistic: 15.86341089725853\n",
      "P-value: 0.044377371746342084\n",
      "Degrees of freedom: 8\n",
      "Expected frequencies:\n",
      "             Male       Female\n",
      "2010  2920.289580  2078.710420\n",
      "2011  2843.178513  2023.821487\n",
      "2012  2955.924239  2104.075761\n",
      "2013  3020.183462  2149.816538\n",
      "2014  3051.728899  2172.271101\n",
      "2015  3020.183462  2149.816538\n",
      "2016  3010.252491  2142.747509\n",
      "2017  2897.506764  2062.493236\n",
      "2018  2836.752590  2019.247410\n",
      "\n",
      "Reject the null hypothesis. There is evidence of a difference in incidence between males and females.\n"
     ]
    },
    {
     "data": {
      "image/png": "[encoded data removed]",
      "text/plain": [
       "<Figure size 432x288 with 1 Axes>"
      ]
     },
     "metadata": {
      "needs_background": "light"
     },
     "output_type": "display_data"
    }
   ],
   "source": [
    "import pandas as pd\n",
    "from scipy.stats import chi2_contingency\n",
    "import matplotlib.pyplot as plt\n",
    "\n",
    "# Create a DataFrame with the provided data\n",
    "data_california = {\n",
    "    'Year': [2010, 2011, 2012, 2013, 2014, 2015, 2016, 2017, 2018],\n",
    "    'Male': [2846, 2773, 3026, 3047, 3056, 2998, 3050, 2891, 2869],\n",
    "    'Female': [2153, 2094, 2034, 2123, 2168, 2172, 2103, 2069, 1987]\n",
    "}\n",
    "\n",
    "df_california = pd.DataFrame(data_california)\n",
    "\n",
    "# Perform chi-squared test for independence\n",
    "observed_data_california = df_california.set_index('Year').loc[:, 'Male':'Female'].values\n",
    "chi2, p, dof, expected = chi2_contingency(observed_data_california)\n",
    "\n",
    "# Set significance level\n",
    "alpha = 0.05\n",
    "\n",
    "# Print results\n",
    "print(\"Results for California\")\n",
    "print(f\"Chi-squared statistic: {chi2}\")\n",
    "print(f\"P-value: {p}\")\n",
    "print(f\"Degrees of freedom: {dof}\")\n",
    "print(\"Expected frequencies:\")\n",
    "print(pd.DataFrame(expected, index=df_california['Year'].values, columns=df_california.columns[1:]))\n",
    "print()\n",
    "\n",
    "# Make a decision based on p-value\n",
    "if p < alpha:\n",
    "    print(\"Reject the null hypothesis. There is evidence of a difference in incidence between males and females.\")\n",
    "else:\n",
    "    print(\"Fail to reject the null hypothesis. There is not enough evidence to claim a difference in incidence.\")\n",
    "\n",
    "# Plotting\n",
    "df_california.set_index('Year').plot(kind='bar', stacked=True)\n",
    "plt.title('Incidents Over the Years (California)')\n",
    "plt.xlabel('Year')\n",
    "plt.ylabel('Number of Incidents')\n",
    "plt.legend(title='Gender', loc='upper left', labels=['Male', 'Female'])\n",
    "plt.show()\n"
   ]
  },
  {
   "cell_type": "code",
   "execution_count": 10,
   "metadata": {},
   "outputs": [
    {
     "name": "stdout",
     "output_type": "stream",
     "text": [
      "Results for Massachusetts:\n",
      "Chi-squared statistic: 11.020697644912467\n",
      "P-value: 0.20052919759104823\n",
      "Degrees of freedom: 8\n",
      "Expected frequencies:\n",
      "            Male      Female\n",
      "2010  539.619111  399.380889\n",
      "2011  567.778149  420.221851\n",
      "2012  580.995657  430.004343\n",
      "2013  571.226194  422.773806\n",
      "2014  570.076846  421.923154\n",
      "2015  583.294353  431.705647\n",
      "2016  559.158035  413.841965\n",
      "2017  617.774808  457.225192\n",
      "2018  570.076846  421.923154\n",
      "\n",
      "Fail to reject the null hypothesis for Massachusetts. There is not enough evidence to claim a difference in incidence.\n"
     ]
    },
    {
     "data": {
      "image/png": "[encoded data removed]",
      "text/plain": [
       "<Figure size 432x288 with 1 Axes>"
      ]
     },
     "metadata": {
      "needs_background": "light"
     },
     "output_type": "display_data"
    }
   ],
   "source": [
    "import pandas as pd\n",
    "from scipy.stats import chi2_contingency\n",
    "import matplotlib.pyplot as plt\n",
    "\n",
    "# Create a DataFrame with the provided data for Massachusetts\n",
    "data_massachusetts = {\n",
    "    'Year': [2010, 2011, 2012, 2013, 2014, 2015, 2016, 2017, 2018],\n",
    "    'Male': [519, 563, 603, 556, 594, 558, 559, 621, 587],\n",
    "    'Female': [420, 425, 408, 438, 398, 457, 414, 454, 405]\n",
    "}\n",
    "\n",
    "df_massachusetts = pd.DataFrame(data_massachusetts)\n",
    "\n",
    "# Perform chi-squared test for independence\n",
    "observed_data_massachusetts = df_massachusetts.set_index('Year').values\n",
    "chi2_massachusetts, p_massachusetts, dof_massachusetts, expected_massachusetts = chi2_contingency(observed_data_massachusetts)\n",
    "\n",
    "# Set significance level\n",
    "alpha_massachusetts = 0.05\n",
    "\n",
    "# Print results for Massachusetts\n",
    "print(\"Results for Massachusetts:\")\n",
    "print(f\"Chi-squared statistic: {chi2_massachusetts}\")\n",
    "print(f\"P-value: {p_massachusetts}\")\n",
    "print(f\"Degrees of freedom: {dof_massachusetts}\")\n",
    "print(\"Expected frequencies:\")\n",
    "print(pd.DataFrame(expected_massachusetts, index=df_massachusetts['Year'].values, columns=df_massachusetts.columns[1:]))\n",
    "print()\n",
    "\n",
    "# Make a decision based on p-value for Massachusetts\n",
    "if p_massachusetts < alpha_massachusetts:\n",
    "    print(\"Reject the null hypothesis for Massachusetts. There is evidence of a difference in incidence between males and females.\")\n",
    "else:\n",
    "    print(\"Fail to reject the null hypothesis for Massachusetts. There is not enough evidence to claim a difference in incidence.\")\n",
    "\n",
    "# Plotting for Massachusetts\n",
    "df_massachusetts.set_index('Year').plot(kind='bar', color = ['red', 'yellow'], stacked=True)\n",
    "plt.title('Incidents Over the Years (Massachusetts)')\n",
    "plt.xlabel('Year')\n",
    "plt.ylabel('Number of Incidents')\n",
    "plt.legend(title='Gender', loc='upper left', labels=['Male', 'Female'])\n",
    "plt.show()\n"
   ]
  },
  {
   "cell_type": "code",
   "execution_count": null,
   "metadata": {},
   "outputs": [],
   "source": []
  }
 ],
 "metadata": {
  "kernelspec": {
   "display_name": "Python 3",
   "language": "python",
   "name": "python3"
  },
  "language_info": {
   "codemirror_mode": {
    "name": "ipython",
    "version": 3
   },
   "file_extension": ".py",
   "mimetype": "text/x-python",
   "name": "python",
   "nbconvert_exporter": "python",
   "pygments_lexer": "ipython3",
   "version": "3.8.5"
  }
 },
 "nbformat": 4,
 "nbformat_minor": 4
}
